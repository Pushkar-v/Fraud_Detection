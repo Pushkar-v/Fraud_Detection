{
 "cells": [
  {
   "cell_type": "markdown",
   "metadata": {},
   "source": [
    "# Classification"
   ]
  },
  {
   "cell_type": "markdown",
   "metadata": {},
   "source": [
    "#### Data Sourced from:\n",
    "https://www.kaggle.com/mlg-ulb/creditcardfraud"
   ]
  },
  {
   "cell_type": "code",
   "execution_count": 108,
   "metadata": {},
   "outputs": [],
   "source": [
    "import pandas as pd\n",
    "import numpy as np\n",
    "import matplotlib.pyplot as plt\n",
    "\n",
    "import warnings\n",
    "warnings.filterwarnings(\"ignore\")\n",
    "\n",
    "import time"
   ]
  },
  {
   "cell_type": "code",
   "execution_count": 125,
   "metadata": {},
   "outputs": [],
   "source": [
    "# sklearn packages\n",
    "from sklearn.model_selection import train_test_split, cross_val_score, GridSearchCV\n",
    "from sklearn.metrics import accuracy_score, confusion_matrix, recall_score, precision_score"
   ]
  },
  {
   "cell_type": "code",
   "execution_count": 25,
   "metadata": {},
   "outputs": [],
   "source": [
    "pd.set_option('display.float_format', lambda x: '%.3f' % x)"
   ]
  },
  {
   "cell_type": "code",
   "execution_count": 5,
   "metadata": {},
   "outputs": [],
   "source": [
    "raw_data = pd.read_csv(r'C:\\Users\\pmven\\Google Drive\\1. myDocs\\Projects\\CC Fraud\\creditcardfraud\\creditcard.csv')"
   ]
  },
  {
   "cell_type": "code",
   "execution_count": 6,
   "metadata": {},
   "outputs": [
    {
     "data": {
      "text/plain": [
       "Index(['Time', 'V1', 'V2', 'V3', 'V4', 'V5', 'V6', 'V7', 'V8', 'V9', 'V10',\n",
       "       'V11', 'V12', 'V13', 'V14', 'V15', 'V16', 'V17', 'V18', 'V19', 'V20',\n",
       "       'V21', 'V22', 'V23', 'V24', 'V25', 'V26', 'V27', 'V28', 'Amount',\n",
       "       'Class'],\n",
       "      dtype='object')"
      ]
     },
     "execution_count": 6,
     "metadata": {},
     "output_type": "execute_result"
    }
   ],
   "source": [
    "raw_data.columns"
   ]
  },
  {
   "cell_type": "markdown",
   "metadata": {},
   "source": [
    "Data contains 31 columns in total <br>\n",
    "V1 - V28 are features <br>\n",
    "Amount, and class are the fraud amounts and flags. \n",
    "What is time?"
   ]
  },
  {
   "cell_type": "code",
   "execution_count": 27,
   "metadata": {},
   "outputs": [
    {
     "data": {
      "text/html": [
       "<div>\n",
       "<style scoped>\n",
       "    .dataframe tbody tr th:only-of-type {\n",
       "        vertical-align: middle;\n",
       "    }\n",
       "\n",
       "    .dataframe tbody tr th {\n",
       "        vertical-align: top;\n",
       "    }\n",
       "\n",
       "    .dataframe thead th {\n",
       "        text-align: right;\n",
       "    }\n",
       "</style>\n",
       "<table border=\"1\" class=\"dataframe\">\n",
       "  <thead>\n",
       "    <tr style=\"text-align: right;\">\n",
       "      <th></th>\n",
       "      <th>Time</th>\n",
       "      <th>V1</th>\n",
       "      <th>V2</th>\n",
       "      <th>V3</th>\n",
       "      <th>V4</th>\n",
       "      <th>V5</th>\n",
       "      <th>V6</th>\n",
       "      <th>V7</th>\n",
       "      <th>V8</th>\n",
       "      <th>V9</th>\n",
       "      <th>...</th>\n",
       "      <th>V21</th>\n",
       "      <th>V22</th>\n",
       "      <th>V23</th>\n",
       "      <th>V24</th>\n",
       "      <th>V25</th>\n",
       "      <th>V26</th>\n",
       "      <th>V27</th>\n",
       "      <th>V28</th>\n",
       "      <th>Amount</th>\n",
       "      <th>Class</th>\n",
       "    </tr>\n",
       "  </thead>\n",
       "  <tbody>\n",
       "    <tr>\n",
       "      <th>0</th>\n",
       "      <td>0.000</td>\n",
       "      <td>-1.360</td>\n",
       "      <td>-0.070</td>\n",
       "      <td>2.540</td>\n",
       "      <td>1.380</td>\n",
       "      <td>-0.340</td>\n",
       "      <td>0.460</td>\n",
       "      <td>0.240</td>\n",
       "      <td>0.100</td>\n",
       "      <td>0.360</td>\n",
       "      <td>...</td>\n",
       "      <td>-0.020</td>\n",
       "      <td>0.280</td>\n",
       "      <td>-0.110</td>\n",
       "      <td>0.070</td>\n",
       "      <td>0.130</td>\n",
       "      <td>-0.190</td>\n",
       "      <td>0.130</td>\n",
       "      <td>-0.020</td>\n",
       "      <td>149.620</td>\n",
       "      <td>0</td>\n",
       "    </tr>\n",
       "    <tr>\n",
       "      <th>1</th>\n",
       "      <td>0.000</td>\n",
       "      <td>1.190</td>\n",
       "      <td>0.270</td>\n",
       "      <td>0.170</td>\n",
       "      <td>0.450</td>\n",
       "      <td>0.060</td>\n",
       "      <td>-0.080</td>\n",
       "      <td>-0.080</td>\n",
       "      <td>0.090</td>\n",
       "      <td>-0.260</td>\n",
       "      <td>...</td>\n",
       "      <td>-0.230</td>\n",
       "      <td>-0.640</td>\n",
       "      <td>0.100</td>\n",
       "      <td>-0.340</td>\n",
       "      <td>0.170</td>\n",
       "      <td>0.130</td>\n",
       "      <td>-0.010</td>\n",
       "      <td>0.010</td>\n",
       "      <td>2.690</td>\n",
       "      <td>0</td>\n",
       "    </tr>\n",
       "    <tr>\n",
       "      <th>2</th>\n",
       "      <td>1.000</td>\n",
       "      <td>-1.360</td>\n",
       "      <td>-1.340</td>\n",
       "      <td>1.770</td>\n",
       "      <td>0.380</td>\n",
       "      <td>-0.500</td>\n",
       "      <td>1.800</td>\n",
       "      <td>0.790</td>\n",
       "      <td>0.250</td>\n",
       "      <td>-1.510</td>\n",
       "      <td>...</td>\n",
       "      <td>0.250</td>\n",
       "      <td>0.770</td>\n",
       "      <td>0.910</td>\n",
       "      <td>-0.690</td>\n",
       "      <td>-0.330</td>\n",
       "      <td>-0.140</td>\n",
       "      <td>-0.060</td>\n",
       "      <td>-0.060</td>\n",
       "      <td>378.660</td>\n",
       "      <td>0</td>\n",
       "    </tr>\n",
       "    <tr>\n",
       "      <th>3</th>\n",
       "      <td>1.000</td>\n",
       "      <td>-0.970</td>\n",
       "      <td>-0.190</td>\n",
       "      <td>1.790</td>\n",
       "      <td>-0.860</td>\n",
       "      <td>-0.010</td>\n",
       "      <td>1.250</td>\n",
       "      <td>0.240</td>\n",
       "      <td>0.380</td>\n",
       "      <td>-1.390</td>\n",
       "      <td>...</td>\n",
       "      <td>-0.110</td>\n",
       "      <td>0.010</td>\n",
       "      <td>-0.190</td>\n",
       "      <td>-1.180</td>\n",
       "      <td>0.650</td>\n",
       "      <td>-0.220</td>\n",
       "      <td>0.060</td>\n",
       "      <td>0.060</td>\n",
       "      <td>123.500</td>\n",
       "      <td>0</td>\n",
       "    </tr>\n",
       "    <tr>\n",
       "      <th>4</th>\n",
       "      <td>2.000</td>\n",
       "      <td>-1.160</td>\n",
       "      <td>0.880</td>\n",
       "      <td>1.550</td>\n",
       "      <td>0.400</td>\n",
       "      <td>-0.410</td>\n",
       "      <td>0.100</td>\n",
       "      <td>0.590</td>\n",
       "      <td>-0.270</td>\n",
       "      <td>0.820</td>\n",
       "      <td>...</td>\n",
       "      <td>-0.010</td>\n",
       "      <td>0.800</td>\n",
       "      <td>-0.140</td>\n",
       "      <td>0.140</td>\n",
       "      <td>-0.210</td>\n",
       "      <td>0.500</td>\n",
       "      <td>0.220</td>\n",
       "      <td>0.220</td>\n",
       "      <td>69.990</td>\n",
       "      <td>0</td>\n",
       "    </tr>\n",
       "  </tbody>\n",
       "</table>\n",
       "<p>5 rows × 31 columns</p>\n",
       "</div>"
      ],
      "text/plain": [
       "   Time     V1     V2    V3     V4     V5     V6     V7     V8     V9  ...  \\\n",
       "0 0.000 -1.360 -0.070 2.540  1.380 -0.340  0.460  0.240  0.100  0.360  ...   \n",
       "1 0.000  1.190  0.270 0.170  0.450  0.060 -0.080 -0.080  0.090 -0.260  ...   \n",
       "2 1.000 -1.360 -1.340 1.770  0.380 -0.500  1.800  0.790  0.250 -1.510  ...   \n",
       "3 1.000 -0.970 -0.190 1.790 -0.860 -0.010  1.250  0.240  0.380 -1.390  ...   \n",
       "4 2.000 -1.160  0.880 1.550  0.400 -0.410  0.100  0.590 -0.270  0.820  ...   \n",
       "\n",
       "     V21    V22    V23    V24    V25    V26    V27    V28  Amount  Class  \n",
       "0 -0.020  0.280 -0.110  0.070  0.130 -0.190  0.130 -0.020 149.620      0  \n",
       "1 -0.230 -0.640  0.100 -0.340  0.170  0.130 -0.010  0.010   2.690      0  \n",
       "2  0.250  0.770  0.910 -0.690 -0.330 -0.140 -0.060 -0.060 378.660      0  \n",
       "3 -0.110  0.010 -0.190 -1.180  0.650 -0.220  0.060  0.060 123.500      0  \n",
       "4 -0.010  0.800 -0.140  0.140 -0.210  0.500  0.220  0.220  69.990      0  \n",
       "\n",
       "[5 rows x 31 columns]"
      ]
     },
     "execution_count": 27,
     "metadata": {},
     "output_type": "execute_result"
    }
   ],
   "source": [
    "round(raw_data.head(5), 2)"
   ]
  },
  {
   "cell_type": "code",
   "execution_count": 10,
   "metadata": {},
   "outputs": [
    {
     "data": {
      "text/plain": [
       "array([0, 1], dtype=int64)"
      ]
     },
     "execution_count": 10,
     "metadata": {},
     "output_type": "execute_result"
    }
   ],
   "source": [
    "# Target Variable\n",
    "raw_data['Class'].unique()"
   ]
  },
  {
   "cell_type": "code",
   "execution_count": 21,
   "metadata": {},
   "outputs": [
    {
     "data": {
      "text/plain": [
       "Class\n",
       "0    284315\n",
       "1       492\n",
       "dtype: int64"
      ]
     },
     "execution_count": 21,
     "metadata": {},
     "output_type": "execute_result"
    }
   ],
   "source": [
    "# how is the variable distributed?\n",
    "raw_data[['Class']].groupby('Class').agg('size')"
   ]
  },
  {
   "cell_type": "markdown",
   "metadata": {},
   "source": [
    "The data seems to be quite imbalced. We need to make stratified sampling in order to balance out the dataset"
   ]
  },
  {
   "cell_type": "code",
   "execution_count": 28,
   "metadata": {},
   "outputs": [
    {
     "data": {
      "text/html": [
       "<div>\n",
       "<style scoped>\n",
       "    .dataframe tbody tr th:only-of-type {\n",
       "        vertical-align: middle;\n",
       "    }\n",
       "\n",
       "    .dataframe tbody tr th {\n",
       "        vertical-align: top;\n",
       "    }\n",
       "\n",
       "    .dataframe thead th {\n",
       "        text-align: right;\n",
       "    }\n",
       "</style>\n",
       "<table border=\"1\" class=\"dataframe\">\n",
       "  <thead>\n",
       "    <tr style=\"text-align: right;\">\n",
       "      <th></th>\n",
       "      <th>Time</th>\n",
       "      <th>V1</th>\n",
       "      <th>V2</th>\n",
       "      <th>V3</th>\n",
       "      <th>V4</th>\n",
       "      <th>V5</th>\n",
       "      <th>V6</th>\n",
       "      <th>V7</th>\n",
       "      <th>V8</th>\n",
       "      <th>V9</th>\n",
       "      <th>...</th>\n",
       "      <th>V21</th>\n",
       "      <th>V22</th>\n",
       "      <th>V23</th>\n",
       "      <th>V24</th>\n",
       "      <th>V25</th>\n",
       "      <th>V26</th>\n",
       "      <th>V27</th>\n",
       "      <th>V28</th>\n",
       "      <th>Amount</th>\n",
       "      <th>Class</th>\n",
       "    </tr>\n",
       "  </thead>\n",
       "  <tbody>\n",
       "    <tr>\n",
       "      <th>count</th>\n",
       "      <td>284807.000</td>\n",
       "      <td>284807.000</td>\n",
       "      <td>284807.000</td>\n",
       "      <td>284807.000</td>\n",
       "      <td>284807.000</td>\n",
       "      <td>284807.000</td>\n",
       "      <td>284807.000</td>\n",
       "      <td>284807.000</td>\n",
       "      <td>284807.000</td>\n",
       "      <td>284807.000</td>\n",
       "      <td>...</td>\n",
       "      <td>284807.000</td>\n",
       "      <td>284807.000</td>\n",
       "      <td>284807.000</td>\n",
       "      <td>284807.000</td>\n",
       "      <td>284807.000</td>\n",
       "      <td>284807.000</td>\n",
       "      <td>284807.000</td>\n",
       "      <td>284807.000</td>\n",
       "      <td>284807.000</td>\n",
       "      <td>284807.000</td>\n",
       "    </tr>\n",
       "    <tr>\n",
       "      <th>mean</th>\n",
       "      <td>94813.860</td>\n",
       "      <td>0.000</td>\n",
       "      <td>0.000</td>\n",
       "      <td>-0.000</td>\n",
       "      <td>0.000</td>\n",
       "      <td>0.000</td>\n",
       "      <td>0.000</td>\n",
       "      <td>-0.000</td>\n",
       "      <td>0.000</td>\n",
       "      <td>-0.000</td>\n",
       "      <td>...</td>\n",
       "      <td>0.000</td>\n",
       "      <td>-0.000</td>\n",
       "      <td>0.000</td>\n",
       "      <td>0.000</td>\n",
       "      <td>0.000</td>\n",
       "      <td>0.000</td>\n",
       "      <td>-0.000</td>\n",
       "      <td>-0.000</td>\n",
       "      <td>88.350</td>\n",
       "      <td>0.000</td>\n",
       "    </tr>\n",
       "    <tr>\n",
       "      <th>std</th>\n",
       "      <td>47488.150</td>\n",
       "      <td>1.960</td>\n",
       "      <td>1.650</td>\n",
       "      <td>1.520</td>\n",
       "      <td>1.420</td>\n",
       "      <td>1.380</td>\n",
       "      <td>1.330</td>\n",
       "      <td>1.240</td>\n",
       "      <td>1.190</td>\n",
       "      <td>1.100</td>\n",
       "      <td>...</td>\n",
       "      <td>0.730</td>\n",
       "      <td>0.730</td>\n",
       "      <td>0.620</td>\n",
       "      <td>0.610</td>\n",
       "      <td>0.520</td>\n",
       "      <td>0.480</td>\n",
       "      <td>0.400</td>\n",
       "      <td>0.330</td>\n",
       "      <td>250.120</td>\n",
       "      <td>0.040</td>\n",
       "    </tr>\n",
       "    <tr>\n",
       "      <th>min</th>\n",
       "      <td>0.000</td>\n",
       "      <td>-56.410</td>\n",
       "      <td>-72.720</td>\n",
       "      <td>-48.330</td>\n",
       "      <td>-5.680</td>\n",
       "      <td>-113.740</td>\n",
       "      <td>-26.160</td>\n",
       "      <td>-43.560</td>\n",
       "      <td>-73.220</td>\n",
       "      <td>-13.430</td>\n",
       "      <td>...</td>\n",
       "      <td>-34.830</td>\n",
       "      <td>-10.930</td>\n",
       "      <td>-44.810</td>\n",
       "      <td>-2.840</td>\n",
       "      <td>-10.300</td>\n",
       "      <td>-2.600</td>\n",
       "      <td>-22.570</td>\n",
       "      <td>-15.430</td>\n",
       "      <td>0.000</td>\n",
       "      <td>0.000</td>\n",
       "    </tr>\n",
       "    <tr>\n",
       "      <th>25%</th>\n",
       "      <td>54201.500</td>\n",
       "      <td>-0.920</td>\n",
       "      <td>-0.600</td>\n",
       "      <td>-0.890</td>\n",
       "      <td>-0.850</td>\n",
       "      <td>-0.690</td>\n",
       "      <td>-0.770</td>\n",
       "      <td>-0.550</td>\n",
       "      <td>-0.210</td>\n",
       "      <td>-0.640</td>\n",
       "      <td>...</td>\n",
       "      <td>-0.230</td>\n",
       "      <td>-0.540</td>\n",
       "      <td>-0.160</td>\n",
       "      <td>-0.350</td>\n",
       "      <td>-0.320</td>\n",
       "      <td>-0.330</td>\n",
       "      <td>-0.070</td>\n",
       "      <td>-0.050</td>\n",
       "      <td>5.600</td>\n",
       "      <td>0.000</td>\n",
       "    </tr>\n",
       "    <tr>\n",
       "      <th>50%</th>\n",
       "      <td>84692.000</td>\n",
       "      <td>0.020</td>\n",
       "      <td>0.070</td>\n",
       "      <td>0.180</td>\n",
       "      <td>-0.020</td>\n",
       "      <td>-0.050</td>\n",
       "      <td>-0.270</td>\n",
       "      <td>0.040</td>\n",
       "      <td>0.020</td>\n",
       "      <td>-0.050</td>\n",
       "      <td>...</td>\n",
       "      <td>-0.030</td>\n",
       "      <td>0.010</td>\n",
       "      <td>-0.010</td>\n",
       "      <td>0.040</td>\n",
       "      <td>0.020</td>\n",
       "      <td>-0.050</td>\n",
       "      <td>0.000</td>\n",
       "      <td>0.010</td>\n",
       "      <td>22.000</td>\n",
       "      <td>0.000</td>\n",
       "    </tr>\n",
       "    <tr>\n",
       "      <th>75%</th>\n",
       "      <td>139320.500</td>\n",
       "      <td>1.320</td>\n",
       "      <td>0.800</td>\n",
       "      <td>1.030</td>\n",
       "      <td>0.740</td>\n",
       "      <td>0.610</td>\n",
       "      <td>0.400</td>\n",
       "      <td>0.570</td>\n",
       "      <td>0.330</td>\n",
       "      <td>0.600</td>\n",
       "      <td>...</td>\n",
       "      <td>0.190</td>\n",
       "      <td>0.530</td>\n",
       "      <td>0.150</td>\n",
       "      <td>0.440</td>\n",
       "      <td>0.350</td>\n",
       "      <td>0.240</td>\n",
       "      <td>0.090</td>\n",
       "      <td>0.080</td>\n",
       "      <td>77.160</td>\n",
       "      <td>0.000</td>\n",
       "    </tr>\n",
       "    <tr>\n",
       "      <th>max</th>\n",
       "      <td>172792.000</td>\n",
       "      <td>2.450</td>\n",
       "      <td>22.060</td>\n",
       "      <td>9.380</td>\n",
       "      <td>16.880</td>\n",
       "      <td>34.800</td>\n",
       "      <td>73.300</td>\n",
       "      <td>120.590</td>\n",
       "      <td>20.010</td>\n",
       "      <td>15.590</td>\n",
       "      <td>...</td>\n",
       "      <td>27.200</td>\n",
       "      <td>10.500</td>\n",
       "      <td>22.530</td>\n",
       "      <td>4.580</td>\n",
       "      <td>7.520</td>\n",
       "      <td>3.520</td>\n",
       "      <td>31.610</td>\n",
       "      <td>33.850</td>\n",
       "      <td>25691.160</td>\n",
       "      <td>1.000</td>\n",
       "    </tr>\n",
       "  </tbody>\n",
       "</table>\n",
       "<p>8 rows × 31 columns</p>\n",
       "</div>"
      ],
      "text/plain": [
       "            Time         V1         V2         V3         V4         V5  \\\n",
       "count 284807.000 284807.000 284807.000 284807.000 284807.000 284807.000   \n",
       "mean   94813.860      0.000      0.000     -0.000      0.000      0.000   \n",
       "std    47488.150      1.960      1.650      1.520      1.420      1.380   \n",
       "min        0.000    -56.410    -72.720    -48.330     -5.680   -113.740   \n",
       "25%    54201.500     -0.920     -0.600     -0.890     -0.850     -0.690   \n",
       "50%    84692.000      0.020      0.070      0.180     -0.020     -0.050   \n",
       "75%   139320.500      1.320      0.800      1.030      0.740      0.610   \n",
       "max   172792.000      2.450     22.060      9.380     16.880     34.800   \n",
       "\n",
       "              V6         V7         V8         V9  ...        V21        V22  \\\n",
       "count 284807.000 284807.000 284807.000 284807.000  ... 284807.000 284807.000   \n",
       "mean       0.000     -0.000      0.000     -0.000  ...      0.000     -0.000   \n",
       "std        1.330      1.240      1.190      1.100  ...      0.730      0.730   \n",
       "min      -26.160    -43.560    -73.220    -13.430  ...    -34.830    -10.930   \n",
       "25%       -0.770     -0.550     -0.210     -0.640  ...     -0.230     -0.540   \n",
       "50%       -0.270      0.040      0.020     -0.050  ...     -0.030      0.010   \n",
       "75%        0.400      0.570      0.330      0.600  ...      0.190      0.530   \n",
       "max       73.300    120.590     20.010     15.590  ...     27.200     10.500   \n",
       "\n",
       "             V23        V24        V25        V26        V27        V28  \\\n",
       "count 284807.000 284807.000 284807.000 284807.000 284807.000 284807.000   \n",
       "mean       0.000      0.000      0.000      0.000     -0.000     -0.000   \n",
       "std        0.620      0.610      0.520      0.480      0.400      0.330   \n",
       "min      -44.810     -2.840    -10.300     -2.600    -22.570    -15.430   \n",
       "25%       -0.160     -0.350     -0.320     -0.330     -0.070     -0.050   \n",
       "50%       -0.010      0.040      0.020     -0.050      0.000      0.010   \n",
       "75%        0.150      0.440      0.350      0.240      0.090      0.080   \n",
       "max       22.530      4.580      7.520      3.520     31.610     33.850   \n",
       "\n",
       "          Amount      Class  \n",
       "count 284807.000 284807.000  \n",
       "mean      88.350      0.000  \n",
       "std      250.120      0.040  \n",
       "min        0.000      0.000  \n",
       "25%        5.600      0.000  \n",
       "50%       22.000      0.000  \n",
       "75%       77.160      0.000  \n",
       "max    25691.160      1.000  \n",
       "\n",
       "[8 rows x 31 columns]"
      ]
     },
     "execution_count": 28,
     "metadata": {},
     "output_type": "execute_result"
    }
   ],
   "source": [
    "# How are the variables distributed?\n",
    "round(raw_data.describe(),2)"
   ]
  },
  {
   "cell_type": "code",
   "execution_count": 37,
   "metadata": {},
   "outputs": [
    {
     "name": "stdout",
     "output_type": "stream",
     "text": [
      "Unique Value Count: 124592\n",
      "unique Values: [0.00000e+00 1.00000e+00 2.00000e+00 ... 1.72787e+05 1.72788e+05\n",
      " 1.72792e+05]\n"
     ]
    }
   ],
   "source": [
    "# Still dont understand what time is.\n",
    "# What are the unique values?\n",
    "print(\"Unique Value Count:\",raw_data['Time'].unique().size)\n",
    "print('unique Values:', raw_data['Time'].unique())"
   ]
  },
  {
   "cell_type": "markdown",
   "metadata": {},
   "source": [
    "https://www.kaggle.com/mlg-ulb/creditcardfraud/discussion/30627<br>\n",
    "basically it is the time elapsed in seconds between first transaction and all subsequent transactions\n",
    "<br>Keeping it aside for now."
   ]
  },
  {
   "cell_type": "code",
   "execution_count": 94,
   "metadata": {},
   "outputs": [
    {
     "data": {
      "text/plain": [
       "Index(['V1', 'V2', 'V3', 'V4', 'V5', 'V6', 'V7', 'V8', 'V9', 'V10', 'V11',\n",
       "       'V12', 'V13', 'V14', 'V15', 'V16', 'V17', 'V18', 'V19', 'V20', 'V21',\n",
       "       'V22', 'V23', 'V24', 'V25', 'V26', 'V27', 'V28'],\n",
       "      dtype='object')"
      ]
     },
     "execution_count": 94,
     "metadata": {},
     "output_type": "execute_result"
    }
   ],
   "source": [
    "raw_data.iloc[:,1:29].columns"
   ]
  },
  {
   "cell_type": "code",
   "execution_count": 68,
   "metadata": {},
   "outputs": [],
   "source": [
    "X = raw_data.iloc[:,1:30]\n",
    "y = raw_data.iloc[:,30:]\n",
    "x_train, x_test, y_train, y_test = train_test_split(X,y, test_size = 0.3, random_state = 1, stratify = y)"
   ]
  },
  {
   "cell_type": "code",
   "execution_count": 69,
   "metadata": {},
   "outputs": [
    {
     "name": "stdout",
     "output_type": "stream",
     "text": [
      "Original Data \n",
      " Class\n",
      "0    284315\n",
      "1       492\n",
      "dtype: int64 \n",
      "\n",
      "Train Data \n",
      " Class\n",
      "0    199020\n",
      "1       344\n",
      "dtype: int64 \n",
      "\n",
      "Test Data \n",
      " Class\n",
      "0    85295\n",
      "1      148\n",
      "dtype: int64 \n",
      "\n"
     ]
    }
   ],
   "source": [
    "# Making sure stratified sampling has taken place\n",
    "print(\"Original Data \\n\", y.groupby('Class').agg('size'), \"\\n\")\n",
    "print(\"Train Data \\n\", y_train.groupby('Class').agg('size'), \"\\n\")\n",
    "print(\"Test Data \\n\", y_test.groupby('Class').agg('size'), \"\\n\")"
   ]
  },
  {
   "cell_type": "markdown",
   "metadata": {},
   "source": [
    "#### The data seem to have split in 70 - 30 fashion for the class variable"
   ]
  },
  {
   "cell_type": "markdown",
   "metadata": {},
   "source": [
    "## Logistic Regression"
   ]
  },
  {
   "cell_type": "code",
   "execution_count": 70,
   "metadata": {},
   "outputs": [],
   "source": [
    "from sklearn.linear_model import LogisticRegression"
   ]
  },
  {
   "cell_type": "code",
   "execution_count": 80,
   "metadata": {},
   "outputs": [],
   "source": [
    "logit = LogisticRegression(random_state=123)\n",
    "logit.fit(x_train, y_train)\n",
    "y_pred = logit.predict(x_test)"
   ]
  },
  {
   "cell_type": "code",
   "execution_count": 82,
   "metadata": {},
   "outputs": [
    {
     "data": {
      "text/plain": [
       "99.93328885923948"
      ]
     },
     "execution_count": 82,
     "metadata": {},
     "output_type": "execute_result"
    }
   ],
   "source": [
    "accuracy_score(y_pred, y_test)* 100"
   ]
  },
  {
   "cell_type": "markdown",
   "metadata": {},
   "source": [
    "We have pretty Good accuracy. but how does the confusion matrix look?"
   ]
  },
  {
   "cell_type": "code",
   "execution_count": 106,
   "metadata": {},
   "outputs": [
    {
     "name": "stdout",
     "output_type": "stream",
     "text": [
      "   0        1\n",
      "[[85284    46]\n",
      " [   11   102]]\n",
      "\n",
      "Recall: 68.92 %\n",
      "Precision:  90.27 %\n"
     ]
    }
   ],
   "source": [
    "matrix = confusion_matrix(y_pred, y_test)\n",
    "print(\"   0        1\")\n",
    "print(matrix)\n",
    "\n",
    "print(\"\\nRecall:\", round(recall_score(y_test, y_pred, pos_label=1)*100,2), \"%\")\n",
    "print(\"Precision: \", round(precision_score(y_test, y_pred, pos_label = 1)*100, 2), \"%\")"
   ]
  },
  {
   "cell_type": "markdown",
   "metadata": {},
   "source": [
    "The recall score for this matrix looks pretty poor\n",
    "The algorithm fails to identify 46 of the 102 fraudulant transactions"
   ]
  },
  {
   "cell_type": "code",
   "execution_count": 93,
   "metadata": {},
   "outputs": [],
   "source": [
    "# What if we remove the Amount variable?"
   ]
  },
  {
   "cell_type": "code",
   "execution_count": 95,
   "metadata": {},
   "outputs": [],
   "source": [
    "X = raw_data.iloc[:,1:29]\n",
    "y = raw_data.iloc[:,30:]\n",
    "x_train, x_test, y_train, y_test = train_test_split(X,y, test_size = 0.3, random_state = 1, stratify = y)"
   ]
  },
  {
   "cell_type": "code",
   "execution_count": 96,
   "metadata": {},
   "outputs": [],
   "source": [
    "logit = LogisticRegression(random_state=123)\n",
    "logit.fit(x_train, y_train)\n",
    "y_pred = logit.predict(x_test)"
   ]
  },
  {
   "cell_type": "code",
   "execution_count": 97,
   "metadata": {},
   "outputs": [
    {
     "data": {
      "text/plain": [
       "99.93328885923948"
      ]
     },
     "execution_count": 97,
     "metadata": {},
     "output_type": "execute_result"
    }
   ],
   "source": [
    "accuracy_score(y_pred, y_test)* 100"
   ]
  },
  {
   "cell_type": "markdown",
   "metadata": {},
   "source": [
    "We have pretty Good accuracy. but how does the confusion matrix look?"
   ]
  },
  {
   "cell_type": "code",
   "execution_count": 115,
   "metadata": {},
   "outputs": [
    {
     "name": "stdout",
     "output_type": "stream",
     "text": [
      "   0        1\n",
      "[[85284    46]\n",
      " [   11   102]]\n",
      "\n",
      "Recall: 68.92 %\n",
      "Precision:  90.27 %\n"
     ]
    }
   ],
   "source": [
    "matrix = confusion_matrix(y_pred, y_test)\n",
    "print(\"   0        1\")\n",
    "print(matrix)\n",
    "\n",
    "print(\"\\nRecall:\", round(recall_score(y_test, y_pred, pos_label=1)*100,2), \"%\")\n",
    "print(\"Precision: \", round(precision_score(y_test, y_pred, pos_label = 1)*100, 2), \"%\")"
   ]
  },
  {
   "cell_type": "markdown",
   "metadata": {},
   "source": [
    "**Makes no Difference**"
   ]
  },
  {
   "cell_type": "markdown",
   "metadata": {},
   "source": [
    "### Performing Cross Validation to get actual model performance"
   ]
  },
  {
   "cell_type": "code",
   "execution_count": 118,
   "metadata": {},
   "outputs": [
    {
     "name": "stdout",
     "output_type": "stream",
     "text": [
      "1.0\n"
     ]
    }
   ],
   "source": [
    "scores = cross_val_score(logit, x_train, y_train, cv = 10)\n",
    "print(round(np.mean(scores), 2))"
   ]
  },
  {
   "cell_type": "markdown",
   "metadata": {},
   "source": [
    "The model scores are consistent with what is observed previously. 99% accuracy. But the model needs to be tuned to get the max recall, which is a low 68% right now."
   ]
  },
  {
   "cell_type": "markdown",
   "metadata": {},
   "source": [
    "### Hyperparameter Tuning to get the maximum recall for the model"
   ]
  },
  {
   "cell_type": "code",
   "execution_count": 136,
   "metadata": {},
   "outputs": [],
   "source": [
    "# Creating the hyperparameter space\n",
    "penalty = ['l1', 'l2']\n",
    "C = np.arange(0.1,4,0.5)\n",
    "grid_dict = dict(penalty=penalty, C=C)"
   ]
  },
  {
   "cell_type": "code",
   "execution_count": 137,
   "metadata": {},
   "outputs": [],
   "source": [
    "grid = GridSearchCV(logit, grid_dict, cv = 3)\n",
    "best_logit = grid.fit(x_train, y_train)"
   ]
  },
  {
   "cell_type": "code",
   "execution_count": 143,
   "metadata": {},
   "outputs": [
    {
     "data": {
      "text/plain": [
       "<bound method BaseEstimator.get_params of GridSearchCV(cv=3, error_score='raise-deprecating',\n",
       "             estimator=LogisticRegression(C=1.0, class_weight=None, dual=False,\n",
       "                                          fit_intercept=True,\n",
       "                                          intercept_scaling=1, l1_ratio=None,\n",
       "                                          max_iter=100, multi_class='warn',\n",
       "                                          n_jobs=None, penalty='l2',\n",
       "                                          random_state=123, solver='warn',\n",
       "                                          tol=0.0001, verbose=0,\n",
       "                                          warm_start=False),\n",
       "             iid='warn', n_jobs=None,\n",
       "             param_grid={'C': array([0.1, 0.6, 1.1, 1.6, 2.1, 2.6, 3.1, 3.6]),\n",
       "                         'penalty': ['l1', 'l2']},\n",
       "             pre_dispatch='2*n_jobs', refit=True, return_train_score=False,\n",
       "             scoring=None, verbose=0)>"
      ]
     },
     "execution_count": 143,
     "metadata": {},
     "output_type": "execute_result"
    }
   ],
   "source": [
    "best_logit.get_params"
   ]
  },
  {
   "cell_type": "markdown",
   "metadata": {},
   "source": [
    "#### The model performs best when C = 1 and l2 penalty"
   ]
  },
  {
   "cell_type": "code",
   "execution_count": 144,
   "metadata": {},
   "outputs": [],
   "source": [
    "X = raw_data.iloc[:,1:29]\n",
    "y = raw_data.iloc[:,30:]\n",
    "x_train, x_test, y_train, y_test = train_test_split(X,y, test_size = 0.3, random_state = 1, stratify = y)"
   ]
  },
  {
   "cell_type": "code",
   "execution_count": 149,
   "metadata": {},
   "outputs": [],
   "source": [
    "logit = LogisticRegression(C=1.0, class_weight=None, dual=False,\n",
    "                                          fit_intercept=True,\n",
    "                                          intercept_scaling=1, l1_ratio=None,\n",
    "                                          max_iter=100, multi_class='warn',\n",
    "                                          n_jobs=None, penalty='l2',\n",
    "                                          random_state=123, solver='warn',\n",
    "                                          tol=0.0001, verbose=0,\n",
    "                                          warm_start=False)\n",
    "logit.fit(x_train, y_train)\n",
    "y_pred = logit.predict(x_test)"
   ]
  },
  {
   "cell_type": "code",
   "execution_count": 150,
   "metadata": {},
   "outputs": [
    {
     "name": "stdout",
     "output_type": "stream",
     "text": [
      "   0        1\n",
      "[[85284    46]\n",
      " [   11   102]]\n",
      "\n",
      "Recall: 68.92 %\n",
      "Precision:  90.27 %\n"
     ]
    }
   ],
   "source": [
    "matrix = confusion_matrix(y_pred, y_test)\n",
    "print(\"   0        1\")\n",
    "print(matrix)\n",
    "\n",
    "print(\"\\nRecall:\", round(recall_score(y_test, y_pred, pos_label=1)*100,2), \"%\")\n",
    "print(\"Precision: \", round(precision_score(y_test, y_pred, pos_label = 1)*100, 2), \"%\")"
   ]
  },
  {
   "cell_type": "markdown",
   "metadata": {},
   "source": [
    "### Logistic Regression Does not perform very well"
   ]
  },
  {
   "cell_type": "code",
   "execution_count": null,
   "metadata": {},
   "outputs": [],
   "source": []
  }
 ],
 "metadata": {
  "kernelspec": {
   "display_name": "Python 3",
   "language": "python",
   "name": "python3"
  },
  "language_info": {
   "codemirror_mode": {
    "name": "ipython",
    "version": 3
   },
   "file_extension": ".py",
   "mimetype": "text/x-python",
   "name": "python",
   "nbconvert_exporter": "python",
   "pygments_lexer": "ipython3",
   "version": "3.7.3"
  }
 },
 "nbformat": 4,
 "nbformat_minor": 4
}
